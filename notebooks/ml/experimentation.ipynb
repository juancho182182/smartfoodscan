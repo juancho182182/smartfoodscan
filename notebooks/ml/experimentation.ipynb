{
 "cells": [
  {
   "cell_type": "code",
   "execution_count": 8,
   "metadata": {},
   "outputs": [
    {
     "data": {
      "text/plain": [
       "dict_keys(['_id', '_keywords', 'abbreviated_product_name', 'abbreviated_product_name_fr', 'abbreviated_product_name_fr_imported', 'added_countries_tags', 'additives_n', 'additives_original_tags', 'additives_tags', 'allergens', 'allergens_from_ingredients', 'allergens_from_user', 'allergens_hierarchy', 'allergens_imported', 'allergens_lc', 'allergens_tags', 'amino_acids_prev_tags', 'amino_acids_tags', 'brands', 'brands_imported', 'brands_tags', 'carbon_footprint_percent_of_known_ingredients', 'categories', 'categories_hierarchy', 'categories_lc', 'categories_old', 'categories_properties', 'categories_properties_tags', 'categories_tags', 'category_properties', 'checked', 'checkers_tags', 'ciqual_food_name_tags', 'cities_tags', 'code', 'codes_tags', 'compared_to_category', 'complete', 'completed_t', 'completeness', 'conservation_conditions', 'conservation_conditions_fr', 'conservation_conditions_fr_imported', 'correctors_tags', 'countries', 'countries_beforescanbot', 'countries_hierarchy', 'countries_imported', 'countries_lc', 'countries_tags', 'created_t', 'creator', 'customer_service', 'customer_service_fr', 'customer_service_fr_imported', 'data_quality_bugs_tags', 'data_quality_errors_tags', 'data_quality_info_tags', 'data_quality_tags', 'data_quality_warnings_tags', 'data_sources', 'data_sources_imported', 'data_sources_tags', 'debug_param_sorted_langs', 'debug_tags', 'ecoscore_data', 'ecoscore_grade', 'ecoscore_score', 'ecoscore_tags', 'editors_tags', 'emb_codes', 'emb_codes_20141016', 'emb_codes_orig', 'emb_codes_tags', 'entry_dates_tags', 'environment_impact_level', 'environment_impact_level_tags', 'expiration_date', 'food_groups', 'food_groups_tags', 'fruits-vegetables-nuts_100g_estimate', 'generic_name', 'generic_name_ar', 'generic_name_ch', 'generic_name_de', 'generic_name_en', 'generic_name_es', 'generic_name_fr', 'generic_name_fr_imported', 'generic_name_id', 'generic_name_it', 'generic_name_nl', 'generic_name_ro', 'grades', 'id', 'image_front_small_url', 'image_front_thumb_url', 'image_front_url', 'image_ingredients_small_url', 'image_ingredients_thumb_url', 'image_ingredients_url', 'image_nutrition_small_url', 'image_nutrition_thumb_url', 'image_nutrition_url', 'image_packaging_small_url', 'image_packaging_thumb_url', 'image_packaging_url', 'image_small_url', 'image_thumb_url', 'image_url', 'images', 'informers_tags', 'ingredients', 'ingredients_analysis', 'ingredients_analysis_tags', 'ingredients_debug', 'ingredients_from_or_that_may_be_from_palm_oil_n', 'ingredients_from_palm_oil_n', 'ingredients_from_palm_oil_tags', 'ingredients_hierarchy', 'ingredients_ids_debug', 'ingredients_lc', 'ingredients_n', 'ingredients_n_tags', 'ingredients_non_nutritive_sweeteners_n', 'ingredients_original_tags', 'ingredients_percent_analysis', 'ingredients_sweeteners_n', 'ingredients_tags', 'ingredients_text', 'ingredients_text_ar', 'ingredients_text_ch', 'ingredients_text_de', 'ingredients_text_debug', 'ingredients_text_en', 'ingredients_text_en_ocr_1642445989', 'ingredients_text_en_ocr_1642445989_result', 'ingredients_text_en_ocr_1643128902', 'ingredients_text_en_ocr_1643128902_result', 'ingredients_text_es', 'ingredients_text_fr', 'ingredients_text_fr_imported', 'ingredients_text_fr_ocr_1642445989', 'ingredients_text_fr_ocr_1642445989_result', 'ingredients_text_fr_ocr_1643128902', 'ingredients_text_fr_ocr_1643128902_result', 'ingredients_text_id', 'ingredients_text_it', 'ingredients_text_nl', 'ingredients_text_ro', 'ingredients_text_with_allergens', 'ingredients_text_with_allergens_ar', 'ingredients_text_with_allergens_ch', 'ingredients_text_with_allergens_de', 'ingredients_text_with_allergens_en', 'ingredients_text_with_allergens_es', 'ingredients_text_with_allergens_fr', 'ingredients_text_with_allergens_it', 'ingredients_text_with_allergens_nl', 'ingredients_text_with_allergens_ro', 'ingredients_that_may_be_from_palm_oil_n', 'ingredients_that_may_be_from_palm_oil_tags', 'ingredients_with_specified_percent_n', 'ingredients_with_specified_percent_sum', 'ingredients_with_unspecified_percent_n', 'ingredients_with_unspecified_percent_sum', 'ingredients_without_ciqual_codes', 'ingredients_without_ciqual_codes_n', 'ingredients_without_ecobalyse_ids', 'ingredients_without_ecobalyse_ids_n', 'interface_version_created', 'interface_version_modified', 'known_ingredients_n', 'labels', 'labels_hierarchy', 'labels_lc', 'labels_old', 'labels_tags', 'lang', 'lang_imported', 'languages', 'languages_codes', 'languages_hierarchy', 'languages_tags', 'last_check_dates_tags', 'last_checked_t', 'last_checker', 'last_edit_dates_tags', 'last_editor', 'last_image_dates_tags', 'last_image_t', 'last_modified_by', 'last_modified_t', 'last_updated_t', 'lc', 'lc_imported', 'link', 'main_countries_tags', 'manufacturing_places', 'manufacturing_places_tags', 'max_imgid', 'minerals_prev_tags', 'minerals_tags', 'misc_tags', 'no_nutrition_data', 'no_nutrition_data_imported', 'nova_group', 'nova_group_debug', 'nova_groups', 'nova_groups_markers', 'nova_groups_tags', 'nucleotides_prev_tags', 'nucleotides_tags', 'nutrient_levels', 'nutrient_levels_tags', 'nutriments', 'nutriscore', 'nutriscore_2021_tags', 'nutriscore_2023_tags', 'nutriscore_data', 'nutriscore_grade', 'nutriscore_score', 'nutriscore_score_opposite', 'nutriscore_tags', 'nutriscore_version', 'nutrition_data', 'nutrition_data_per', 'nutrition_data_per_imported', 'nutrition_data_prepared', 'nutrition_data_prepared_per', 'nutrition_grade_fr', 'nutrition_grades', 'nutrition_grades_tags', 'nutrition_score_beverage', 'nutrition_score_debug', 'nutrition_score_warning_fruits_vegetables_legumes_estimate_from_ingredients', 'nutrition_score_warning_fruits_vegetables_legumes_estimate_from_ingredients_value', 'nutrition_score_warning_fruits_vegetables_nuts_estimate_from_ingredients', 'nutrition_score_warning_fruits_vegetables_nuts_estimate_from_ingredients_value', 'nutrition_score_warning_no_fiber', 'obsolete', 'obsolete_imported', 'obsolete_since_date', 'origin', 'origin_ar', 'origin_ch', 'origin_de', 'origin_en', 'origin_es', 'origin_fr', 'origin_it', 'origin_nl', 'origin_ro', 'origins', 'origins_hierarchy', 'origins_lc', 'origins_old', 'origins_tags', 'other_nutritional_substances_tags', 'owner', 'owner_fields', 'owner_imported', 'owners_tags', 'packaging', 'packaging_hierarchy', 'packaging_imported', 'packaging_lc', 'packaging_materials_tags', 'packaging_old', 'packaging_old_before_taxonomization', 'packaging_recycling_tags', 'packaging_shapes_tags', 'packaging_tags', 'packaging_text', 'packaging_text_ar', 'packaging_text_ch', 'packaging_text_de', 'packaging_text_en', 'packaging_text_es', 'packaging_text_fr', 'packaging_text_id', 'packaging_text_it', 'packaging_text_nl', 'packaging_text_ro', 'packagings', 'packagings_complete', 'packagings_materials', 'packagings_materials_main', 'packagings_n', 'photographers_tags', 'pnns_groups_1', 'pnns_groups_1_tags', 'pnns_groups_2', 'pnns_groups_2_tags', 'popularity_key', 'popularity_tags', 'producer_version_id', 'producer_version_id_imported', 'product', 'product_name', 'product_name_ar', 'product_name_ch', 'product_name_de', 'product_name_en', 'product_name_es', 'product_name_fr', 'product_name_fr_imported', 'product_name_id', 'product_name_it', 'product_name_nl', 'product_name_ro', 'product_quantity', 'product_quantity_unit', 'product_type', 'purchase_places', 'purchase_places_tags', 'quantity', 'quantity_imported', 'removed_countries_tags', 'rev', 'scans_n', 'scores', 'selected_images', 'serving_quantity', 'serving_quantity_unit', 'serving_size', 'serving_size_imported', 'sortkey', 'sources', 'sources_fields', 'states', 'states_hierarchy', 'states_tags', 'stores', 'stores_tags', 'teams', 'teams_tags', 'traces', 'traces_from_ingredients', 'traces_from_user', 'traces_hierarchy', 'traces_lc', 'traces_tags', 'unique_scans_n', 'unknown_ingredients_n', 'unknown_nutrients_tags', 'update_key', 'vitamins_prev_tags', 'vitamins_tags', 'weighers_tags', 'weighters_tags'])"
      ]
     },
     "execution_count": 8,
     "metadata": {},
     "output_type": "execute_result"
    }
   ],
   "source": [
    "url = f\"https://world.openfoodfacts.org/api/v0/product/3017620422003.json\"\n",
    "\n",
    "import requests\n",
    "\n",
    "response = requests.get(url)\n",
    "\n",
    "data = response.json()\n",
    "\n",
    "data['product'].keys()"
   ]
  },
  {
   "cell_type": "code",
   "execution_count": 9,
   "metadata": {},
   "outputs": [
    {
     "data": {
      "text/plain": [
       "['en:e322', 'en:e322i']"
      ]
     },
     "execution_count": 9,
     "metadata": {},
     "output_type": "execute_result"
    }
   ],
   "source": [
    "data['product']['additives_tags']"
   ]
  },
  {
   "cell_type": "code",
   "execution_count": 23,
   "metadata": {},
   "outputs": [
    {
     "data": {
      "text/plain": [
       "'sugar, palm oil, hazelnuts 13%, low-fat cocoa 7.4%, skimmed milk powder 6.6%, whey powder, emulsifiers: lecithins [soya], vanillin, gluten-free,'"
      ]
     },
     "execution_count": 23,
     "metadata": {},
     "output_type": "execute_result"
    }
   ],
   "source": [
    "data['product']['ingredients_text_en']"
   ]
  },
  {
   "cell_type": "code",
   "execution_count": null,
   "metadata": {},
   "outputs": [],
   "source": []
  }
 ],
 "metadata": {
  "kernelspec": {
   "display_name": "smartfoodscan",
   "language": "python",
   "name": "python3"
  },
  "language_info": {
   "codemirror_mode": {
    "name": "ipython",
    "version": 3
   },
   "file_extension": ".py",
   "mimetype": "text/x-python",
   "name": "python",
   "nbconvert_exporter": "python",
   "pygments_lexer": "ipython3",
   "version": "3.10.6"
  }
 },
 "nbformat": 4,
 "nbformat_minor": 2
}
