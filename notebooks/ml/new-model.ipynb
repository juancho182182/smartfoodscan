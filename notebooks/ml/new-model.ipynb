{
 "cells": [
  {
   "cell_type": "code",
   "execution_count": 1,
   "metadata": {},
   "outputs": [],
   "source": [
    "from product_info.api_fetcher import get_product_info\n",
    "\n",
    "product_info = get_product_info(3017620422003)"
   ]
  },
  {
   "cell_type": "code",
   "execution_count": 2,
   "metadata": {},
   "outputs": [
    {
     "data": {
      "text/plain": [
       "dict_keys(['_id', '_keywords', 'abbreviated_product_name', 'abbreviated_product_name_fr', 'abbreviated_product_name_fr_imported', 'added_countries_tags', 'additives_n', 'additives_original_tags', 'additives_tags', 'allergens', 'allergens_from_ingredients', 'allergens_from_user', 'allergens_hierarchy', 'allergens_imported', 'allergens_lc', 'allergens_tags', 'amino_acids_prev_tags', 'amino_acids_tags', 'brands', 'brands_imported', 'brands_tags', 'carbon_footprint_percent_of_known_ingredients', 'categories', 'categories_hierarchy', 'categories_lc', 'categories_old', 'categories_properties', 'categories_properties_tags', 'categories_tags', 'category_properties', 'checked', 'checkers_tags', 'ciqual_food_name_tags', 'cities_tags', 'code', 'codes_tags', 'compared_to_category', 'complete', 'completed_t', 'completeness', 'conservation_conditions', 'conservation_conditions_fr', 'conservation_conditions_fr_imported', 'correctors_tags', 'countries', 'countries_beforescanbot', 'countries_hierarchy', 'countries_imported', 'countries_lc', 'countries_tags', 'created_t', 'creator', 'customer_service', 'customer_service_fr', 'customer_service_fr_imported', 'data_quality_bugs_tags', 'data_quality_errors_tags', 'data_quality_info_tags', 'data_quality_tags', 'data_quality_warnings_tags', 'data_sources', 'data_sources_imported', 'data_sources_tags', 'debug_param_sorted_langs', 'debug_tags', 'ecoscore_data', 'ecoscore_grade', 'ecoscore_score', 'ecoscore_tags', 'editors_tags', 'emb_codes', 'emb_codes_20141016', 'emb_codes_orig', 'emb_codes_tags', 'entry_dates_tags', 'environment_impact_level', 'environment_impact_level_tags', 'expiration_date', 'food_groups', 'food_groups_tags', 'fruits-vegetables-nuts_100g_estimate', 'generic_name', 'generic_name_ar', 'generic_name_ch', 'generic_name_de', 'generic_name_en', 'generic_name_es', 'generic_name_fr', 'generic_name_fr_imported', 'generic_name_id', 'generic_name_it', 'generic_name_nl', 'generic_name_ro', 'grades', 'id', 'image_front_small_url', 'image_front_thumb_url', 'image_front_url', 'image_ingredients_small_url', 'image_ingredients_thumb_url', 'image_ingredients_url', 'image_nutrition_small_url', 'image_nutrition_thumb_url', 'image_nutrition_url', 'image_packaging_small_url', 'image_packaging_thumb_url', 'image_packaging_url', 'image_small_url', 'image_thumb_url', 'image_url', 'images', 'informers_tags', 'ingredients', 'ingredients_analysis', 'ingredients_analysis_tags', 'ingredients_debug', 'ingredients_from_or_that_may_be_from_palm_oil_n', 'ingredients_from_palm_oil_n', 'ingredients_from_palm_oil_tags', 'ingredients_hierarchy', 'ingredients_ids_debug', 'ingredients_lc', 'ingredients_n', 'ingredients_n_tags', 'ingredients_non_nutritive_sweeteners_n', 'ingredients_original_tags', 'ingredients_percent_analysis', 'ingredients_sweeteners_n', 'ingredients_tags', 'ingredients_text', 'ingredients_text_ar', 'ingredients_text_ch', 'ingredients_text_de', 'ingredients_text_debug', 'ingredients_text_en', 'ingredients_text_en_ocr_1642445989', 'ingredients_text_en_ocr_1642445989_result', 'ingredients_text_en_ocr_1643128902', 'ingredients_text_en_ocr_1643128902_result', 'ingredients_text_es', 'ingredients_text_fr', 'ingredients_text_fr_imported', 'ingredients_text_fr_ocr_1642445989', 'ingredients_text_fr_ocr_1642445989_result', 'ingredients_text_fr_ocr_1643128902', 'ingredients_text_fr_ocr_1643128902_result', 'ingredients_text_id', 'ingredients_text_it', 'ingredients_text_nl', 'ingredients_text_ro', 'ingredients_text_with_allergens', 'ingredients_text_with_allergens_ar', 'ingredients_text_with_allergens_ch', 'ingredients_text_with_allergens_de', 'ingredients_text_with_allergens_en', 'ingredients_text_with_allergens_es', 'ingredients_text_with_allergens_fr', 'ingredients_text_with_allergens_it', 'ingredients_text_with_allergens_nl', 'ingredients_text_with_allergens_ro', 'ingredients_that_may_be_from_palm_oil_n', 'ingredients_that_may_be_from_palm_oil_tags', 'ingredients_with_specified_percent_n', 'ingredients_with_specified_percent_sum', 'ingredients_with_unspecified_percent_n', 'ingredients_with_unspecified_percent_sum', 'ingredients_without_ciqual_codes', 'ingredients_without_ciqual_codes_n', 'ingredients_without_ecobalyse_ids', 'ingredients_without_ecobalyse_ids_n', 'interface_version_created', 'interface_version_modified', 'known_ingredients_n', 'labels', 'labels_hierarchy', 'labels_lc', 'labels_old', 'labels_tags', 'lang', 'lang_imported', 'languages', 'languages_codes', 'languages_hierarchy', 'languages_tags', 'last_check_dates_tags', 'last_checked_t', 'last_checker', 'last_edit_dates_tags', 'last_editor', 'last_image_dates_tags', 'last_image_t', 'last_modified_by', 'last_modified_t', 'last_updated_t', 'lc', 'lc_imported', 'link', 'main_countries_tags', 'manufacturing_places', 'manufacturing_places_tags', 'max_imgid', 'minerals_prev_tags', 'minerals_tags', 'misc_tags', 'no_nutrition_data', 'no_nutrition_data_imported', 'nova_group', 'nova_group_debug', 'nova_groups', 'nova_groups_markers', 'nova_groups_tags', 'nucleotides_prev_tags', 'nucleotides_tags', 'nutrient_levels', 'nutrient_levels_tags', 'nutriments', 'nutriscore', 'nutriscore_2021_tags', 'nutriscore_2023_tags', 'nutriscore_data', 'nutriscore_grade', 'nutriscore_score', 'nutriscore_score_opposite', 'nutriscore_tags', 'nutriscore_version', 'nutrition_data', 'nutrition_data_per', 'nutrition_data_per_imported', 'nutrition_data_prepared', 'nutrition_data_prepared_per', 'nutrition_grade_fr', 'nutrition_grades', 'nutrition_grades_tags', 'nutrition_score_beverage', 'nutrition_score_debug', 'nutrition_score_warning_fruits_vegetables_legumes_estimate_from_ingredients', 'nutrition_score_warning_fruits_vegetables_legumes_estimate_from_ingredients_value', 'nutrition_score_warning_fruits_vegetables_nuts_estimate_from_ingredients', 'nutrition_score_warning_fruits_vegetables_nuts_estimate_from_ingredients_value', 'nutrition_score_warning_no_fiber', 'obsolete', 'obsolete_imported', 'obsolete_since_date', 'origin', 'origin_ar', 'origin_ch', 'origin_de', 'origin_en', 'origin_es', 'origin_fr', 'origin_it', 'origin_nl', 'origin_ro', 'origins', 'origins_hierarchy', 'origins_lc', 'origins_old', 'origins_tags', 'other_nutritional_substances_tags', 'owner', 'owner_fields', 'owner_imported', 'owners_tags', 'packaging', 'packaging_hierarchy', 'packaging_imported', 'packaging_lc', 'packaging_materials_tags', 'packaging_old', 'packaging_old_before_taxonomization', 'packaging_recycling_tags', 'packaging_shapes_tags', 'packaging_tags', 'packaging_text', 'packaging_text_ar', 'packaging_text_ch', 'packaging_text_de', 'packaging_text_en', 'packaging_text_es', 'packaging_text_fr', 'packaging_text_id', 'packaging_text_it', 'packaging_text_nl', 'packaging_text_ro', 'packagings', 'packagings_complete', 'packagings_materials', 'packagings_materials_main', 'packagings_n', 'photographers_tags', 'pnns_groups_1', 'pnns_groups_1_tags', 'pnns_groups_2', 'pnns_groups_2_tags', 'popularity_key', 'popularity_tags', 'producer_version_id', 'producer_version_id_imported', 'product', 'product_name', 'product_name_ar', 'product_name_ch', 'product_name_de', 'product_name_en', 'product_name_es', 'product_name_fr', 'product_name_fr_imported', 'product_name_id', 'product_name_it', 'product_name_nl', 'product_name_ro', 'product_quantity', 'product_quantity_unit', 'product_type', 'purchase_places', 'purchase_places_tags', 'quantity', 'quantity_imported', 'removed_countries_tags', 'rev', 'scans_n', 'scores', 'selected_images', 'serving_quantity', 'serving_quantity_unit', 'serving_size', 'serving_size_imported', 'sortkey', 'sources', 'sources_fields', 'states', 'states_hierarchy', 'states_tags', 'stores', 'stores_tags', 'taxonomies_enhancer_tags', 'teams', 'teams_tags', 'traces', 'traces_from_ingredients', 'traces_from_user', 'traces_hierarchy', 'traces_lc', 'traces_tags', 'unique_scans_n', 'unknown_ingredients_n', 'unknown_nutrients_tags', 'update_key', 'vitamins_prev_tags', 'vitamins_tags', 'weighers_tags', 'weighters_tags'])"
      ]
     },
     "execution_count": 2,
     "metadata": {},
     "output_type": "execute_result"
    }
   ],
   "source": [
    "product_info.keys()"
   ]
  },
  {
   "cell_type": "code",
   "execution_count": 3,
   "metadata": {},
   "outputs": [
    {
     "data": {
      "text/plain": [
       "'Nutella t.400'"
      ]
     },
     "execution_count": 3,
     "metadata": {},
     "output_type": "execute_result"
    }
   ],
   "source": [
    "product_info['abbreviated_product_name']"
   ]
  },
  {
   "cell_type": "code",
   "execution_count": 4,
   "metadata": {},
   "outputs": [
    {
     "data": {
      "text/plain": [
       "{'carbohydrates': 57.5,\n",
       " 'carbohydrates_100g': 57.5,\n",
       " 'carbohydrates_serving': 8.62,\n",
       " 'carbohydrates_unit': 'g',\n",
       " 'carbohydrates_value': 57.5,\n",
       " 'carbon-footprint-from-known-ingredients_product': 135,\n",
       " 'carbon-footprint-from-known-ingredients_serving': 5.07,\n",
       " 'energy': 2252,\n",
       " 'energy-kcal': 539,\n",
       " 'energy-kcal_100g': 539,\n",
       " 'energy-kcal_serving': 80.8,\n",
       " 'energy-kcal_unit': 'kcal',\n",
       " 'energy-kcal_value': 539,\n",
       " 'energy-kcal_value_computed': 533.3,\n",
       " 'energy-kj': 2252,\n",
       " 'energy-kj_100g': 2252,\n",
       " 'energy-kj_serving': 338,\n",
       " 'energy-kj_unit': 'kJ',\n",
       " 'energy-kj_value': 2252,\n",
       " 'energy-kj_value_computed': 2227.9,\n",
       " 'energy_100g': 2252,\n",
       " 'energy_serving': 338,\n",
       " 'energy_unit': 'kJ',\n",
       " 'energy_value': 2252,\n",
       " 'fat': 30.9,\n",
       " 'fat_100g': 30.9,\n",
       " 'fat_serving': 4.63,\n",
       " 'fat_unit': 'g',\n",
       " 'fat_value': 30.9,\n",
       " 'fruits-vegetables-legumes-estimate-from-ingredients_100g': 0,\n",
       " 'fruits-vegetables-legumes-estimate-from-ingredients_serving': 0,\n",
       " 'fruits-vegetables-nuts-estimate-from-ingredients_100g': 13,\n",
       " 'fruits-vegetables-nuts-estimate-from-ingredients_serving': 13,\n",
       " 'nova-group': 4,\n",
       " 'nova-group_100g': 4,\n",
       " 'nova-group_serving': 4,\n",
       " 'nutrition-score-fr': 31,\n",
       " 'nutrition-score-fr_100g': 31,\n",
       " 'proteins': 6.3,\n",
       " 'proteins_100g': 6.3,\n",
       " 'proteins_serving': 0.945,\n",
       " 'proteins_unit': 'g',\n",
       " 'proteins_value': 6.3,\n",
       " 'salt': 0.107,\n",
       " 'salt_100g': 0.107,\n",
       " 'salt_serving': 0.016,\n",
       " 'salt_unit': 'g',\n",
       " 'salt_value': 0.107,\n",
       " 'saturated-fat': 10.6,\n",
       " 'saturated-fat_100g': 10.6,\n",
       " 'saturated-fat_serving': 1.59,\n",
       " 'saturated-fat_unit': 'g',\n",
       " 'saturated-fat_value': 10.6,\n",
       " 'sodium': 0.0428,\n",
       " 'sodium_100g': 0.0428,\n",
       " 'sodium_serving': 0.00642,\n",
       " 'sodium_unit': 'g',\n",
       " 'sodium_value': 0.0428,\n",
       " 'sugars': 56.3,\n",
       " 'sugars_100g': 56.3,\n",
       " 'sugars_serving': 8.44,\n",
       " 'sugars_unit': 'g',\n",
       " 'sugars_value': 56.3}"
      ]
     },
     "execution_count": 4,
     "metadata": {},
     "output_type": "execute_result"
    }
   ],
   "source": [
    "product_info['nutriments']"
   ]
  },
  {
   "cell_type": "code",
   "execution_count": 5,
   "metadata": {},
   "outputs": [
    {
     "data": {
      "text/plain": [
       "['en:e322', 'en:e322i']"
      ]
     },
     "execution_count": 5,
     "metadata": {},
     "output_type": "execute_result"
    }
   ],
   "source": [
    "product_info['additives_tags']"
   ]
  },
  {
   "cell_type": "code",
   "execution_count": 6,
   "metadata": {},
   "outputs": [
    {
     "data": {
      "text/plain": [
       "'blueberries, sugar, pectin, citric acid'"
      ]
     },
     "execution_count": 6,
     "metadata": {},
     "output_type": "execute_result"
    }
   ],
   "source": [
    "product_info['ingredients_text_en']"
   ]
  },
  {
   "cell_type": "code",
   "execution_count": 7,
   "metadata": {},
   "outputs": [
    {
     "data": {
      "text/html": [
       "<div>\n",
       "<style scoped>\n",
       "    .dataframe tbody tr th:only-of-type {\n",
       "        vertical-align: middle;\n",
       "    }\n",
       "\n",
       "    .dataframe tbody tr th {\n",
       "        vertical-align: top;\n",
       "    }\n",
       "\n",
       "    .dataframe thead th {\n",
       "        text-align: right;\n",
       "    }\n",
       "</style>\n",
       "<table border=\"1\" class=\"dataframe\">\n",
       "  <thead>\n",
       "    <tr style=\"text-align: right;\">\n",
       "      <th></th>\n",
       "      <th>energy-kcal_100g</th>\n",
       "      <th>saturated-fat_100g</th>\n",
       "      <th>trans-fat_100g</th>\n",
       "      <th>cholesterol_100g</th>\n",
       "      <th>sugars_100g</th>\n",
       "      <th>fiber_100g</th>\n",
       "      <th>proteins_100g</th>\n",
       "      <th>sodium_100g</th>\n",
       "      <th>calcium_100g</th>\n",
       "      <th>iron_100g</th>\n",
       "      <th>other_carbohydrates_100g</th>\n",
       "      <th>other_fat_100g</th>\n",
       "      <th>text</th>\n",
       "    </tr>\n",
       "  </thead>\n",
       "  <tbody>\n",
       "    <tr>\n",
       "      <th>0</th>\n",
       "      <td>539</td>\n",
       "      <td>10.6</td>\n",
       "      <td>0</td>\n",
       "      <td>0</td>\n",
       "      <td>56.3</td>\n",
       "      <td>0</td>\n",
       "      <td>6.3</td>\n",
       "      <td>0.0428</td>\n",
       "      <td>0</td>\n",
       "      <td>0</td>\n",
       "      <td>1.2</td>\n",
       "      <td>20.3</td>\n",
       "      <td>blueberries, sugar, pectin, citric acid e322 e...</td>\n",
       "    </tr>\n",
       "  </tbody>\n",
       "</table>\n",
       "</div>"
      ],
      "text/plain": [
       "   energy-kcal_100g  saturated-fat_100g  trans-fat_100g  cholesterol_100g  \\\n",
       "0               539                10.6               0                 0   \n",
       "\n",
       "   sugars_100g  fiber_100g  proteins_100g  sodium_100g  calcium_100g  \\\n",
       "0         56.3           0            6.3       0.0428             0   \n",
       "\n",
       "   iron_100g  other_carbohydrates_100g  other_fat_100g  \\\n",
       "0          0                       1.2            20.3   \n",
       "\n",
       "                                                text  \n",
       "0  blueberries, sugar, pectin, citric acid e322 e...  "
      ]
     },
     "execution_count": 7,
     "metadata": {},
     "output_type": "execute_result"
    }
   ],
   "source": [
    "import pandas as pd\n",
    "\n",
    "text = product_info.get('ingredients_text_en', '')\n",
    "additives = product_info.get('additives_tags', [])\n",
    "for additive in additives:\n",
    "    text += ' ' + additive[3:]\n",
    "\n",
    "nutriments = product_info[\"nutriments\"]\n",
    "data = {\n",
    "    'energy-kcal_100g': nutriments.get('energy-kcal_100g', 0),\n",
    "    'saturated-fat_100g': nutriments.get('saturated-fat_100g', 0),\n",
    "    'trans-fat_100g': nutriments.get('trans-fat_100g', 0),\n",
    "    'cholesterol_100g': nutriments.get('cholesterol_100g', 0),\n",
    "    'sugars_100g': nutriments.get('sugars_100g', 0),\n",
    "    'fiber_100g': nutriments.get('fiber_100g', 0),\n",
    "    'proteins_100g': nutriments.get('proteins_100g', 0),\n",
    "    'sodium_100g': nutriments.get('sodium_100g', 0),\n",
    "    'calcium_100g': nutriments.get('calcium_100g', 0),\n",
    "    'iron_100g': nutriments.get('iron_100g', 0),\n",
    "    'other_carbohydrates_100g': nutriments.get('carbohydrates_100g', 0) - nutriments.get('sugars_100g', 0) - nutriments.get('fiber_100g', 0),\n",
    "    'other_fat_100g': nutriments.get('fat_100g', 0) - nutriments.get('saturated-fat_100g', 0) - nutriments.get('trans-fat_100g', 0),\n",
    "    'text': text\n",
    "    }\n",
    "# url = \"https://smartfoodscan-805490564375.europe-west1.run.app/predict\" # old url\n",
    "# Make a DataFrame\n",
    "input_dataframe = pd.DataFrame(data, index=[0])\n",
    "\n",
    "input_dataframe"
   ]
  },
  {
   "cell_type": "code",
   "execution_count": 8,
   "metadata": {},
   "outputs": [],
   "source": [
    "numerical_cols = input_dataframe.drop(columns=['text']).columns.tolist()"
   ]
  },
  {
   "cell_type": "code",
   "execution_count": 11,
   "metadata": {},
   "outputs": [],
   "source": [
    "import pickle\n",
    "\n",
    "# Load the scaler\n",
    "with open(\"../../models/robust_scaler.pkl\", \"rb\") as f:\n",
    "    robust_scaler = pickle.load(f)"
   ]
  },
  {
   "cell_type": "code",
   "execution_count": 13,
   "metadata": {},
   "outputs": [],
   "source": [
    "# Load TinyBERT tokenizer and model\n",
    "\n",
    "from transformers import AutoTokenizer, AutoModel\n",
    "\n",
    "tokenizer = AutoTokenizer.from_pretrained(\"prajjwal1/bert-tiny\")\n",
    "model = AutoModel.from_pretrained(\"prajjwal1/bert-tiny\")"
   ]
  },
  {
   "cell_type": "code",
   "execution_count": 14,
   "metadata": {},
   "outputs": [
    {
     "data": {
      "text/plain": [
       "array([[ 0.83      ,  1.20448179,  0.        ,  0.        ,  2.28558477,\n",
       "        -0.38888889,  0.07139153, -0.50981169, -0.34951456, -0.38626609,\n",
       "        -0.23940847,  1.42133816]])"
      ]
     },
     "execution_count": 14,
     "metadata": {},
     "output_type": "execute_result"
    }
   ],
   "source": [
    "input_dataframe_scaled = robust_scaler.transform(input_dataframe[numerical_cols])\n",
    "input_dataframe_scaled"
   ]
  },
  {
   "cell_type": "code",
   "execution_count": 15,
   "metadata": {},
   "outputs": [],
   "source": [
    "import torch\n",
    "\n",
    "def get_bert_embeddings(texts):\n",
    "    inputs = tokenizer(texts, padding=True, truncation=True, max_length=128, return_tensors=\"pt\") # Change max_length to 128\n",
    "    with torch.no_grad():\n",
    "        outputs = model(**inputs)\n",
    "    return outputs.last_hidden_state[:, 0, :].numpy()  # Take [CLS] token embeddings"
   ]
  },
  {
   "cell_type": "code",
   "execution_count": null,
   "metadata": {},
   "outputs": [
    {
     "data": {
      "text/plain": [
       "(1, 1, 128)"
      ]
     },
     "execution_count": 25,
     "metadata": {},
     "output_type": "execute_result"
    }
   ],
   "source": [
    "import numpy as np\n",
    "\n",
    "# Convert text to embeddings\n",
    "input_dataframe_text = np.array([get_bert_embeddings(text) for text in input_dataframe['text']])\n",
    "input_dataframe_text.shape"
   ]
  },
  {
   "cell_type": "code",
   "execution_count": 26,
   "metadata": {},
   "outputs": [
    {
     "data": {
      "text/plain": [
       "(128,)"
      ]
     },
     "execution_count": 26,
     "metadata": {},
     "output_type": "execute_result"
    }
   ],
   "source": [
    "input_dataframe_text = input_dataframe_text.squeeze()\n",
    "input_dataframe_text.shape"
   ]
  },
  {
   "cell_type": "code",
   "execution_count": 27,
   "metadata": {},
   "outputs": [
    {
     "data": {
      "text/plain": [
       "(1, 12)"
      ]
     },
     "execution_count": 27,
     "metadata": {},
     "output_type": "execute_result"
    }
   ],
   "source": [
    "input_dataframe_scaled.shape"
   ]
  },
  {
   "cell_type": "code",
   "execution_count": null,
   "metadata": {},
   "outputs": [],
   "source": []
  }
 ],
 "metadata": {
  "kernelspec": {
   "display_name": "smartfoodscan",
   "language": "python",
   "name": "python3"
  },
  "language_info": {
   "codemirror_mode": {
    "name": "ipython",
    "version": 3
   },
   "file_extension": ".py",
   "mimetype": "text/x-python",
   "name": "python",
   "nbconvert_exporter": "python",
   "pygments_lexer": "ipython3",
   "version": "3.10.6"
  }
 },
 "nbformat": 4,
 "nbformat_minor": 2
}
