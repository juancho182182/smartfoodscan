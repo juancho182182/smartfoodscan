{
 "cells": [
  {
   "cell_type": "code",
   "execution_count": 8,
   "metadata": {},
   "outputs": [],
   "source": [
    "barcode = '76808000733'"
   ]
  },
  {
   "cell_type": "code",
   "execution_count": 9,
   "metadata": {},
   "outputs": [],
   "source": [
    "import pandas as pd\n",
    "import requests\n",
    "import json\n",
    "\n",
    "def get_food_data(barcode):\n",
    "    url = f\"https://world.openfoodfacts.org/api/v0/product/{barcode}.json\"\n",
    "    response = requests.get(url)\n",
    "    if response.status_code == 200:\n",
    "        data = response.json()\n",
    "        if data.get('status')== 1:\n",
    "            return data['product']\n",
    "        else:\n",
    "            return f\"Product not found\"\n",
    "    else:\n",
    "        return f\"Error connection with the API: {response.status_code}\"\n",
    "\n",
    "product_info =get_food_data(barcode)"
   ]
  },
  {
   "cell_type": "code",
   "execution_count": 10,
   "metadata": {},
   "outputs": [],
   "source": [
    "def check_labels(product):\n",
    "    product_labels = product.get(\"ingredients_analysis_tags\", [])\n",
    "    labels = {'vegan':None,'vegetarian':None, 'palm-oil-free':None }\n",
    "    if product_labels:\n",
    "        if \"en:vegan\" in product_labels:\n",
    "            labels['vegan']='yes'\n",
    "        if \"en:non-vegan\" in product_labels:\n",
    "            labels['vegan']='no'\n",
    "        if \"en:maybe-vegan\" in product_labels:\n",
    "            labels['vegan']='maybe'\n",
    "        if \"en:vegetarian\" in product_labels:\n",
    "            labels['vegetarian']='yes'\n",
    "        if \"en:non-vegetarian\" in product_labels:\n",
    "            labels['vegetarian']='no'\n",
    "        if \"en:maybe-vegetarian\" in product_labels:\n",
    "            labels['vegetarian']='maybe'\n",
    "        if \"en:palm-oil-free\" in product_labels:\n",
    "            labels['palm-oil-free']='yes'\n",
    "        if \"en:palm-oil\" in product_labels:\n",
    "            labels['palm-oil-free']='no'\n",
    "    else:\n",
    "        None\n",
    "    return labels"
   ]
  },
  {
   "cell_type": "code",
   "execution_count": 6,
   "metadata": {},
   "outputs": [
    {
     "data": {
      "text/plain": [
       "['en:palm-oil-free', 'en:vegan-status-unknown', 'en:vegetarian-status-unknown']"
      ]
     },
     "execution_count": 6,
     "metadata": {},
     "output_type": "execute_result"
    }
   ],
   "source": [
    "product_info.get(\"ingredients_analysis_tags\", [])"
   ]
  },
  {
   "cell_type": "code",
   "execution_count": 7,
   "metadata": {},
   "outputs": [
    {
     "data": {
      "text/plain": [
       "{'vegan': None, 'vegetarian': None, 'palm-oil-free': 'yes'}"
      ]
     },
     "execution_count": 7,
     "metadata": {},
     "output_type": "execute_result"
    }
   ],
   "source": [
    "check_labels(product_info)"
   ]
  }
 ],
 "metadata": {
  "kernelspec": {
   "display_name": "smartfoodscan",
   "language": "python",
   "name": "python3"
  },
  "language_info": {
   "codemirror_mode": {
    "name": "ipython",
    "version": 3
   },
   "file_extension": ".py",
   "mimetype": "text/x-python",
   "name": "python",
   "nbconvert_exporter": "python",
   "pygments_lexer": "ipython3",
   "version": "3.10.6"
  }
 },
 "nbformat": 4,
 "nbformat_minor": 2
}
